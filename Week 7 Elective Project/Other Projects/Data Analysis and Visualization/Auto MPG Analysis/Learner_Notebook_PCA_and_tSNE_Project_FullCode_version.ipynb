{
  "cells": [
    {
      "cell_type": "markdown",
      "metadata": {
        "id": "eT8ztZbiu4Dk"
      },
      "source": [
        "# **PCA and t-SNE Project: Auto MPG**\n",
        "\n",
        "# **Marks: 30**\n",
        "\n",
        "Welcome to the project on PCA and t-SNE. In this project, we will be using the **auto-mpg dataset**.\n",
        "\n",
        "\n",
        "-----------------------------\n",
        "## **Context**\n",
        "-----------------------------\n",
        "\n",
        "The shifting market conditions, globalization, cost pressure, and volatility are leading to a change in the automobile market landscape. The emergence of data, in conjunction with machine learning in automobile companies, has paved a way that is helping bring operational and business transformations.\n",
        "\n",
        "The automobile market is vast and diverse, with numerous vehicle categories being manufactured and sold with varying configurations of attributes such as displacement, horsepower, and acceleration. We aim to find combinations of these features that can clearly distinguish certain groups of automobiles from others through this analysis, as this will inform other downstream processes for any organization aiming to sell each group of vehicles to a slightly different target audience.\n",
        "\n",
        "You are a Data Scientist at SecondLife which is a leading used car dealership with numerous outlets across the US. Recently, they have started shifting their focus to vintage cars and have been diligently collecting data about all the vintage cars they have sold over the years. The Director of Operations at SecondLife wants to leverage the data to extract insights about the cars and find different groups of vintage cars to target the audience more efficiently.\n",
        "\n",
        "-----------------------------\n",
        "## **Objective**\n",
        "-----------------------------\n",
        "The objective of this problem is to **explore the data, reduce the number of features by using dimensionality reduction techniques like PCA and t-SNE, and extract meaningful insights**.\n",
        "\n",
        "-----------------------------\n",
        "## **Dataset** \n",
        "-----------------------------\n",
        "There are 8 variables in the data: \n",
        "\n",
        "- mpg: miles per gallon\n",
        "- cyl: number of cylinders\n",
        "- disp: engine displacement (cu. inches) or engine size\n",
        "- hp: horsepower\n",
        "- wt: vehicle weight (lbs.)\n",
        "- acc: time taken to accelerate from 0 to 60 mph (sec.)\n",
        "- yr: model year\n",
        "- car name: car model name"
      ]
    },
    {
      "cell_type": "markdown",
      "metadata": {
        "id": "e7YUSFfGu4Du"
      },
      "source": [
        "## **Importing the necessary libraries and overview of the dataset**"
      ]
    },
    {
      "cell_type": "code",
      "execution_count": null,
      "metadata": {
        "id": "aVFeA7eWu4Dv"
      },
      "outputs": [],
      "source": []
    },
    {
      "cell_type": "markdown",
      "metadata": {
        "id": "g2bXBiAivujY"
      },
      "source": [
        "### **Loading the data**"
      ]
    },
    {
      "cell_type": "code",
      "execution_count": null,
      "metadata": {
        "id": "MuQU1BD-u4Dx"
      },
      "outputs": [],
      "source": []
    },
    {
      "cell_type": "markdown",
      "metadata": {
        "id": "sTXXY0cVvuja"
      },
      "source": [
        "### **Data Overview**\n",
        "\n",
        "- Observations\n",
        "- Sanity checks\n",
        "\n",
        "\n"
      ]
    },
    {
      "cell_type": "code",
      "source": [],
      "metadata": {
        "id": "ZMPyh9MMTeWp"
      },
      "execution_count": null,
      "outputs": []
    },
    {
      "cell_type": "markdown",
      "metadata": {
        "id": "1B_nVTGSvujb"
      },
      "source": [
        "## **Data Preprocessing and Exploratory Data Analysis**\n",
        "\n",
        "\n",
        "- EDA is an important part of any project involving data.\n",
        "- It is important to investigate and understand the data better before building a model with it.\n",
        "- A few questions have been mentioned below which will help you approach the analysis in the right manner and generate insights from the data.\n",
        "- Missing value treatment\n",
        "- Feature engineering (if needed)\n",
        "- Check the correlation among the variables\n",
        "- Outlier detection and treatment (if needed)\n",
        "- Preparing data for modeling\n",
        "- Any other preprocessing steps (if needed)\n",
        "\n"
      ]
    },
    {
      "cell_type": "code",
      "source": [],
      "metadata": {
        "id": "6HPv-iQdTguJ"
      },
      "execution_count": null,
      "outputs": []
    },
    {
      "cell_type": "markdown",
      "metadata": {
        "id": "Ejfe_eP4vuje"
      },
      "source": [
        "### **Summary Statistics**"
      ]
    },
    {
      "cell_type": "code",
      "execution_count": null,
      "metadata": {
        "id": "bK37aYa5vuje"
      },
      "outputs": [],
      "source": []
    },
    {
      "cell_type": "markdown",
      "metadata": {
        "id": "YJB5hRFevuje"
      },
      "source": [
        "**Observations:________**"
      ]
    },
    {
      "cell_type": "markdown",
      "metadata": {
        "id": "WVuQ8rRuvujg"
      },
      "source": [
        "### **Scaling the data**"
      ]
    },
    {
      "cell_type": "code",
      "source": [],
      "metadata": {
        "id": "drUx673vOtHl"
      },
      "execution_count": null,
      "outputs": []
    },
    {
      "cell_type": "markdown",
      "metadata": {
        "id": "eIAZ2xZuvujh"
      },
      "source": [
        "## **Principal Component Analysis**"
      ]
    },
    {
      "cell_type": "code",
      "execution_count": null,
      "metadata": {
        "id": "SqS_ahV0vuji"
      },
      "outputs": [],
      "source": []
    },
    {
      "cell_type": "markdown",
      "metadata": {
        "id": "-P3Hl-3Pvujj"
      },
      "source": [
        "**Observations:___________________**"
      ]
    },
    {
      "cell_type": "markdown",
      "metadata": {
        "id": "ZDG7G_ZDvujk"
      },
      "source": [
        "#### **Interpret the coefficients of the first three principal components from the below DataFrame**"
      ]
    },
    {
      "cell_type": "code",
      "execution_count": null,
      "metadata": {
        "id": "mi16_6Bxvujk"
      },
      "outputs": [],
      "source": []
    },
    {
      "cell_type": "markdown",
      "metadata": {
        "id": "oG5orJKGvujk"
      },
      "source": [
        "**Observations:__________________**"
      ]
    },
    {
      "cell_type": "markdown",
      "metadata": {
        "id": "jZo1h9pNvujk"
      },
      "source": [
        "#### **Visualize the data in 2 dimensions using the first two principal components**\n",
        "\n"
      ]
    },
    {
      "cell_type": "code",
      "source": [],
      "metadata": {
        "id": "dCb4GLQAPDbR"
      },
      "execution_count": null,
      "outputs": []
    },
    {
      "cell_type": "markdown",
      "metadata": {
        "id": "v1i8nQCevujl"
      },
      "source": [
        "**Observations:___________**"
      ]
    },
    {
      "cell_type": "markdown",
      "metadata": {
        "id": "4TY5Sh719iVg"
      },
      "source": [
        "## **t-SNE**"
      ]
    },
    {
      "cell_type": "code",
      "source": [],
      "metadata": {
        "id": "IqFhiXxZPUbr"
      },
      "execution_count": null,
      "outputs": []
    },
    {
      "cell_type": "markdown",
      "metadata": {
        "id": "PEfKLZkou4D-"
      },
      "source": [
        "**Observations:______________**"
      ]
    },
    {
      "cell_type": "markdown",
      "metadata": {
        "id": "RMrLjS6yvujo"
      },
      "source": [
        "#### **Visualize the clusters w.r.t different variables using scatter plot and box plot**"
      ]
    },
    {
      "cell_type": "code",
      "execution_count": null,
      "metadata": {
        "id": "TycHswKhu4EB"
      },
      "outputs": [],
      "source": []
    },
    {
      "cell_type": "markdown",
      "metadata": {
        "id": "37KSsbmSu4EC"
      },
      "source": [
        "**Observations:___________**"
      ]
    },
    {
      "cell_type": "markdown",
      "source": [
        "## **Actionable Insights and Recommendations**"
      ],
      "metadata": {
        "id": "pc8YcrbKNpAl"
      }
    },
    {
      "cell_type": "markdown",
      "source": [
        "**write your insights and recommendations here:**  ______"
      ],
      "metadata": {
        "id": "rzfglWJ4NvQn"
      }
    }
  ],
  "metadata": {
    "colab": {
      "provenance": []
    },
    "kernelspec": {
      "display_name": "Python 3 (ipykernel)",
      "language": "python",
      "name": "python3"
    },
    "language_info": {
      "codemirror_mode": {
        "name": "ipython",
        "version": 3
      },
      "file_extension": ".py",
      "mimetype": "text/x-python",
      "name": "python",
      "nbconvert_exporter": "python",
      "pygments_lexer": "ipython3",
      "version": "3.9.7"
    }
  },
  "nbformat": 4,
  "nbformat_minor": 0
}